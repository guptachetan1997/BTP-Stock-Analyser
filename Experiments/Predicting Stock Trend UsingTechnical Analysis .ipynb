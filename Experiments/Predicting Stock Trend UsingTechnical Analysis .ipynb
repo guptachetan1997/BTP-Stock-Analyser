{
 "cells": [
  {
   "cell_type": "markdown",
   "metadata": {},
   "source": [
    "## Importing Libraries"
   ]
  },
  {
   "cell_type": "code",
   "execution_count": 1,
   "metadata": {},
   "outputs": [],
   "source": [
    "import pandas as pd"
   ]
  },
  {
   "cell_type": "code",
   "execution_count": 2,
   "metadata": {},
   "outputs": [],
   "source": [
    "from sklearn.preprocessing import LabelEncoder"
   ]
  },
  {
   "cell_type": "code",
   "execution_count": 3,
   "metadata": {},
   "outputs": [],
   "source": [
    "from sklearn.ensemble import RandomForestClassifier"
   ]
  },
  {
   "cell_type": "markdown",
   "metadata": {},
   "source": [
    "## Loading Data and Preprocessing"
   ]
  },
  {
   "cell_type": "code",
   "execution_count": 4,
   "metadata": {},
   "outputs": [],
   "source": [
    "DATA = \"FINAL_DATA/indicatos_price_data.csv\""
   ]
  },
  {
   "cell_type": "code",
   "execution_count": 5,
   "metadata": {},
   "outputs": [],
   "source": [
    "indicators_df = pd.read_csv(DATA)"
   ]
  },
  {
   "cell_type": "code",
   "execution_count": 6,
   "metadata": {},
   "outputs": [],
   "source": [
    "accepted_cols =  [\"Date\", \"Symbol\", \"close_price_change\"] + list(filter(lambda x: x.find(\"_signal\") != -1, indicators_df.columns))"
   ]
  },
  {
   "cell_type": "code",
   "execution_count": 7,
   "metadata": {},
   "outputs": [],
   "source": [
    "indicators_df = indicators_df.filter(accepted_cols)"
   ]
  },
  {
   "cell_type": "code",
   "execution_count": 8,
   "metadata": {},
   "outputs": [
    {
     "data": {
      "text/html": [
       "<div>\n",
       "<style scoped>\n",
       "    .dataframe tbody tr th:only-of-type {\n",
       "        vertical-align: middle;\n",
       "    }\n",
       "\n",
       "    .dataframe tbody tr th {\n",
       "        vertical-align: top;\n",
       "    }\n",
       "\n",
       "    .dataframe thead th {\n",
       "        text-align: right;\n",
       "    }\n",
       "</style>\n",
       "<table border=\"1\" class=\"dataframe\">\n",
       "  <thead>\n",
       "    <tr style=\"text-align: right;\">\n",
       "      <th></th>\n",
       "      <th>Date</th>\n",
       "      <th>Symbol</th>\n",
       "      <th>close_price_change</th>\n",
       "      <th>atr_signal</th>\n",
       "      <th>cci_signal</th>\n",
       "      <th>cmf_21_signal</th>\n",
       "      <th>ema_5_10_signal</th>\n",
       "      <th>ema_20_100_signal</th>\n",
       "      <th>macd_signal</th>\n",
       "      <th>mfi_signal</th>\n",
       "      <th>obv_1_signal</th>\n",
       "      <th>pgo_signal</th>\n",
       "      <th>rsi_signal</th>\n",
       "      <th>sma_5_10_signal</th>\n",
       "      <th>sma_20_100_signal</th>\n",
       "      <th>stochrsi_signal</th>\n",
       "      <th>stoch_signal</th>\n",
       "      <th>trix_signal</th>\n",
       "      <th>wr_signal</th>\n",
       "    </tr>\n",
       "  </thead>\n",
       "  <tbody>\n",
       "    <tr>\n",
       "      <th>1825</th>\n",
       "      <td>2016-06-22</td>\n",
       "      <td>AXISBANK</td>\n",
       "      <td>0</td>\n",
       "      <td>Low Volatility</td>\n",
       "      <td>Neutral</td>\n",
       "      <td>Buy</td>\n",
       "      <td>Sell</td>\n",
       "      <td>Buy</td>\n",
       "      <td>Buy</td>\n",
       "      <td>Neutral</td>\n",
       "      <td>Sell</td>\n",
       "      <td>Neutral</td>\n",
       "      <td>Neutral</td>\n",
       "      <td>Sell</td>\n",
       "      <td>Buy</td>\n",
       "      <td>Sell</td>\n",
       "      <td>Neutral</td>\n",
       "      <td>Buy</td>\n",
       "      <td>Oversold</td>\n",
       "    </tr>\n",
       "    <tr>\n",
       "      <th>1326</th>\n",
       "      <td>2015-10-19</td>\n",
       "      <td>ICICIBANK</td>\n",
       "      <td>0</td>\n",
       "      <td>Low Volatility</td>\n",
       "      <td>Neutral</td>\n",
       "      <td>Buy</td>\n",
       "      <td>Buy</td>\n",
       "      <td>Sell</td>\n",
       "      <td>Buy</td>\n",
       "      <td>Neutral</td>\n",
       "      <td>Divergence</td>\n",
       "      <td>Neutral</td>\n",
       "      <td>Neutral</td>\n",
       "      <td>Buy</td>\n",
       "      <td>Sell</td>\n",
       "      <td>Buy</td>\n",
       "      <td>Neutral</td>\n",
       "      <td>Buy</td>\n",
       "      <td>Overbought</td>\n",
       "    </tr>\n",
       "    <tr>\n",
       "      <th>1221</th>\n",
       "      <td>2015-08-26</td>\n",
       "      <td>ICICIBANK</td>\n",
       "      <td>0</td>\n",
       "      <td>Low Volatility</td>\n",
       "      <td>Sell</td>\n",
       "      <td>Buy</td>\n",
       "      <td>Sell</td>\n",
       "      <td>Sell</td>\n",
       "      <td>Sell</td>\n",
       "      <td>Neutral</td>\n",
       "      <td>Sell</td>\n",
       "      <td>Neutral</td>\n",
       "      <td>Neutral</td>\n",
       "      <td>Sell</td>\n",
       "      <td>Sell</td>\n",
       "      <td>Sell</td>\n",
       "      <td>Neutral</td>\n",
       "      <td>Sell</td>\n",
       "      <td>Neutral</td>\n",
       "    </tr>\n",
       "    <tr>\n",
       "      <th>734</th>\n",
       "      <td>2015-01-01</td>\n",
       "      <td>AXISBANK</td>\n",
       "      <td>1</td>\n",
       "      <td>Low Volatility</td>\n",
       "      <td>Buy</td>\n",
       "      <td>Sell</td>\n",
       "      <td>Buy</td>\n",
       "      <td>Sell</td>\n",
       "      <td>Buy</td>\n",
       "      <td>Neutral</td>\n",
       "      <td>Buy</td>\n",
       "      <td>Neutral</td>\n",
       "      <td>Neutral</td>\n",
       "      <td>Buy</td>\n",
       "      <td>Buy</td>\n",
       "      <td>Buy</td>\n",
       "      <td>Neutral</td>\n",
       "      <td>Buy</td>\n",
       "      <td>Overbought</td>\n",
       "    </tr>\n",
       "    <tr>\n",
       "      <th>2652</th>\n",
       "      <td>2017-08-02</td>\n",
       "      <td>AXISBANK</td>\n",
       "      <td>1</td>\n",
       "      <td>Low Volatility</td>\n",
       "      <td>Neutral</td>\n",
       "      <td>Sell</td>\n",
       "      <td>Sell</td>\n",
       "      <td>Buy</td>\n",
       "      <td>Buy</td>\n",
       "      <td>Neutral</td>\n",
       "      <td>Divergence</td>\n",
       "      <td>Neutral</td>\n",
       "      <td>Neutral</td>\n",
       "      <td>Sell</td>\n",
       "      <td>Buy</td>\n",
       "      <td>Sell</td>\n",
       "      <td>Neutral</td>\n",
       "      <td>Buy</td>\n",
       "      <td>Neutral</td>\n",
       "    </tr>\n",
       "    <tr>\n",
       "      <th>3221</th>\n",
       "      <td>2018-05-09</td>\n",
       "      <td>AXISBANK</td>\n",
       "      <td>1</td>\n",
       "      <td>Low Volatility</td>\n",
       "      <td>Buy</td>\n",
       "      <td>Buy</td>\n",
       "      <td>Buy</td>\n",
       "      <td>Sell</td>\n",
       "      <td>Buy</td>\n",
       "      <td>Neutral</td>\n",
       "      <td>Buy</td>\n",
       "      <td>Neutral</td>\n",
       "      <td>Neutral</td>\n",
       "      <td>Buy</td>\n",
       "      <td>Sell</td>\n",
       "      <td>Buy</td>\n",
       "      <td>Neutral</td>\n",
       "      <td>Buy</td>\n",
       "      <td>Overbought</td>\n",
       "    </tr>\n",
       "  </tbody>\n",
       "</table>\n",
       "</div>"
      ],
      "text/plain": [
       "            Date     Symbol  close_price_change      atr_signal cci_signal  \\\n",
       "1825  2016-06-22   AXISBANK                   0  Low Volatility    Neutral   \n",
       "1326  2015-10-19  ICICIBANK                   0  Low Volatility    Neutral   \n",
       "1221  2015-08-26  ICICIBANK                   0  Low Volatility       Sell   \n",
       "734   2015-01-01   AXISBANK                   1  Low Volatility        Buy   \n",
       "2652  2017-08-02   AXISBANK                   1  Low Volatility    Neutral   \n",
       "3221  2018-05-09   AXISBANK                   1  Low Volatility        Buy   \n",
       "\n",
       "     cmf_21_signal ema_5_10_signal ema_20_100_signal macd_signal mfi_signal  \\\n",
       "1825           Buy            Sell               Buy         Buy    Neutral   \n",
       "1326           Buy             Buy              Sell         Buy    Neutral   \n",
       "1221           Buy            Sell              Sell        Sell    Neutral   \n",
       "734           Sell             Buy              Sell         Buy    Neutral   \n",
       "2652          Sell            Sell               Buy         Buy    Neutral   \n",
       "3221           Buy             Buy              Sell         Buy    Neutral   \n",
       "\n",
       "     obv_1_signal pgo_signal rsi_signal sma_5_10_signal sma_20_100_signal  \\\n",
       "1825         Sell    Neutral    Neutral            Sell               Buy   \n",
       "1326   Divergence    Neutral    Neutral             Buy              Sell   \n",
       "1221         Sell    Neutral    Neutral            Sell              Sell   \n",
       "734           Buy    Neutral    Neutral             Buy               Buy   \n",
       "2652   Divergence    Neutral    Neutral            Sell               Buy   \n",
       "3221          Buy    Neutral    Neutral             Buy              Sell   \n",
       "\n",
       "     stochrsi_signal stoch_signal trix_signal   wr_signal  \n",
       "1825            Sell      Neutral         Buy    Oversold  \n",
       "1326             Buy      Neutral         Buy  Overbought  \n",
       "1221            Sell      Neutral        Sell     Neutral  \n",
       "734              Buy      Neutral         Buy  Overbought  \n",
       "2652            Sell      Neutral         Buy     Neutral  \n",
       "3221             Buy      Neutral         Buy  Overbought  "
      ]
     },
     "execution_count": 8,
     "metadata": {},
     "output_type": "execute_result"
    }
   ],
   "source": [
    "indicators_df.sample(frac=1).head(n=6)"
   ]
  },
  {
   "cell_type": "markdown",
   "metadata": {},
   "source": [
    "### Converting text signals to numeric data"
   ]
  },
  {
   "cell_type": "code",
   "execution_count": 9,
   "metadata": {},
   "outputs": [],
   "source": [
    "label_encoders = {}\n",
    "for signal in list(filter(lambda x: x.find(\"_signal\") != -1, indicators_df.columns)):\n",
    "    le = LabelEncoder()\n",
    "    le.fit(indicators_df[signal])\n",
    "    indicators_df[signal] = le.transform(indicators_df[signal])\n",
    "    label_encoders[signal] = le"
   ]
  },
  {
   "cell_type": "code",
   "execution_count": 10,
   "metadata": {},
   "outputs": [],
   "source": [
    "indicators_df = indicators_df.sample(frac=1)"
   ]
  },
  {
   "cell_type": "code",
   "execution_count": 11,
   "metadata": {},
   "outputs": [],
   "source": [
    "X_train = indicators_df[indicators_df.Date < \"2019-01-01\"].drop([\"Date\", \"Symbol\", \"close_price_change\", \"obv_1_signal\"], axis=1).values\n",
    "X_test = indicators_df[indicators_df.Date >= \"2019-01-01\"].drop([\"Date\", \"Symbol\", \"close_price_change\", \"obv_1_signal\"], axis=1).values"
   ]
  },
  {
   "cell_type": "code",
   "execution_count": 12,
   "metadata": {},
   "outputs": [],
   "source": [
    "Y_train = indicators_df[indicators_df.Date < \"2019-01-01\"][\"close_price_change\"].values\n",
    "Y_test = indicators_df[indicators_df.Date >= \"2019-01-01\"][\"close_price_change\"].values"
   ]
  },
  {
   "cell_type": "code",
   "execution_count": 13,
   "metadata": {},
   "outputs": [
    {
     "data": {
      "text/plain": [
       "3699"
      ]
     },
     "execution_count": 13,
     "metadata": {},
     "output_type": "execute_result"
    }
   ],
   "source": [
    "len(X_train)"
   ]
  },
  {
   "cell_type": "code",
   "execution_count": 14,
   "metadata": {},
   "outputs": [
    {
     "data": {
      "text/plain": [
       "243"
      ]
     },
     "execution_count": 14,
     "metadata": {},
     "output_type": "execute_result"
    }
   ],
   "source": [
    "len(X_test)"
   ]
  },
  {
   "cell_type": "markdown",
   "metadata": {},
   "source": [
    "## Random Forest Classification"
   ]
  },
  {
   "cell_type": "code",
   "execution_count": 15,
   "metadata": {},
   "outputs": [],
   "source": [
    "rf_clf = RandomForestClassifier(n_estimators=1000, max_depth=20, n_jobs=4)"
   ]
  },
  {
   "cell_type": "code",
   "execution_count": 16,
   "metadata": {},
   "outputs": [
    {
     "data": {
      "text/plain": [
       "RandomForestClassifier(bootstrap=True, class_weight=None, criterion='gini',\n",
       "                       max_depth=20, max_features='auto', max_leaf_nodes=None,\n",
       "                       min_impurity_decrease=0.0, min_impurity_split=None,\n",
       "                       min_samples_leaf=1, min_samples_split=2,\n",
       "                       min_weight_fraction_leaf=0.0, n_estimators=1000,\n",
       "                       n_jobs=4, oob_score=False, random_state=None, verbose=0,\n",
       "                       warm_start=False)"
      ]
     },
     "execution_count": 16,
     "metadata": {},
     "output_type": "execute_result"
    }
   ],
   "source": [
    "rf_clf.fit(X_train, Y_train)"
   ]
  },
  {
   "cell_type": "code",
   "execution_count": 17,
   "metadata": {},
   "outputs": [
    {
     "data": {
      "text/plain": [
       "69.95884773662551"
      ]
     },
     "execution_count": 17,
     "metadata": {},
     "output_type": "execute_result"
    }
   ],
   "source": [
    "rf_clf.score(X_test, Y_test)*100"
   ]
  },
  {
   "cell_type": "markdown",
   "metadata": {},
   "source": [
    "### Feature Importance"
   ]
  },
  {
   "cell_type": "code",
   "execution_count": 18,
   "metadata": {},
   "outputs": [],
   "source": [
    "indicators = ['atr_signal',\n",
    " 'cci_signal',\n",
    " 'cmf_21_signal',\n",
    " 'ema_5_10_signal',\n",
    " 'ema_20_100_signal',\n",
    " 'macd_signal',\n",
    " 'mfi_signal',\n",
    " 'pgo_signal',\n",
    " 'rsi_signal',\n",
    " 'sma_5_10_signal',\n",
    " 'sma_20_100_signal',\n",
    " 'stochrsi_signal',\n",
    " 'stoch_signal',\n",
    " 'trix_signal',\n",
    " 'wr_signal']"
   ]
  },
  {
   "cell_type": "code",
   "execution_count": 19,
   "metadata": {},
   "outputs": [],
   "source": [
    "indicators_importances = rf_clf.feature_importances_"
   ]
  },
  {
   "cell_type": "code",
   "execution_count": 20,
   "metadata": {},
   "outputs": [
    {
     "name": "stdout",
     "output_type": "stream",
     "text": [
      "atr_signal --> 0.7659662302952319%\n",
      "cci_signal --> 7.363237386405676%\n",
      "cmf_21_signal --> 4.304851338085142%\n",
      "ema_5_10_signal --> 2.8128689968326985%\n",
      "ema_20_100_signal --> 3.511572805446997%\n",
      "macd_signal --> 2.5325826172843526%\n",
      "mfi_signal --> 2.5614309759452976%\n",
      "pgo_signal --> 1.3723430451484224%\n",
      "rsi_signal --> 3.2698195318694787%\n",
      "sma_5_10_signal --> 4.87413731469514%\n",
      "sma_20_100_signal --> 3.6881654631651952%\n",
      "stochrsi_signal --> 13.315500135711492%\n",
      "stoch_signal --> 28.071520464734377%\n",
      "trix_signal --> 2.7443338399059187%\n",
      "wr_signal --> 18.81166985447458%\n"
     ]
    }
   ],
   "source": [
    "for ind,imp in zip(indicators, indicators_importances):\n",
    "    print(\"{} --> {}%\".format(ind, imp*100))"
   ]
  },
  {
   "cell_type": "markdown",
   "metadata": {},
   "source": [
    "### Exporting Test Data"
   ]
  },
  {
   "cell_type": "code",
   "execution_count": 44,
   "metadata": {},
   "outputs": [],
   "source": [
    "test_export = indicators_df[indicators_df.Date >= \"2019-01-01\"].filter([\"Date\", \"Symbol\", \"close_price_change\"])"
   ]
  },
  {
   "cell_type": "code",
   "execution_count": 45,
   "metadata": {},
   "outputs": [],
   "source": [
    "test_export[\"indicators_prediction\"] = list(rf_clf.predict(X_test))"
   ]
  },
  {
   "cell_type": "code",
   "execution_count": 47,
   "metadata": {},
   "outputs": [
    {
     "data": {
      "text/html": [
       "<div>\n",
       "<style scoped>\n",
       "    .dataframe tbody tr th:only-of-type {\n",
       "        vertical-align: middle;\n",
       "    }\n",
       "\n",
       "    .dataframe tbody tr th {\n",
       "        vertical-align: top;\n",
       "    }\n",
       "\n",
       "    .dataframe thead th {\n",
       "        text-align: right;\n",
       "    }\n",
       "</style>\n",
       "<table border=\"1\" class=\"dataframe\">\n",
       "  <thead>\n",
       "    <tr style=\"text-align: right;\">\n",
       "      <th></th>\n",
       "      <th>Date</th>\n",
       "      <th>Symbol</th>\n",
       "      <th>close_price_change</th>\n",
       "      <th>indicators_prediction</th>\n",
       "    </tr>\n",
       "  </thead>\n",
       "  <tbody>\n",
       "    <tr>\n",
       "      <th>3872</th>\n",
       "      <td>2019-03-25</td>\n",
       "      <td>HDFCBANK</td>\n",
       "      <td>1</td>\n",
       "      <td>1</td>\n",
       "    </tr>\n",
       "    <tr>\n",
       "      <th>3725</th>\n",
       "      <td>2019-01-11</td>\n",
       "      <td>AXISBANK</td>\n",
       "      <td>1</td>\n",
       "      <td>1</td>\n",
       "    </tr>\n",
       "    <tr>\n",
       "      <th>3733</th>\n",
       "      <td>2019-01-16</td>\n",
       "      <td>HDFCBANK</td>\n",
       "      <td>0</td>\n",
       "      <td>0</td>\n",
       "    </tr>\n",
       "    <tr>\n",
       "      <th>3851</th>\n",
       "      <td>2019-03-13</td>\n",
       "      <td>HDFCBANK</td>\n",
       "      <td>1</td>\n",
       "      <td>1</td>\n",
       "    </tr>\n",
       "    <tr>\n",
       "      <th>3861</th>\n",
       "      <td>2019-03-19</td>\n",
       "      <td>AXISBANK</td>\n",
       "      <td>1</td>\n",
       "      <td>1</td>\n",
       "    </tr>\n",
       "    <tr>\n",
       "      <th>3771</th>\n",
       "      <td>2019-02-04</td>\n",
       "      <td>ICICIBANK</td>\n",
       "      <td>0</td>\n",
       "      <td>0</td>\n",
       "    </tr>\n",
       "    <tr>\n",
       "      <th>3903</th>\n",
       "      <td>2019-04-09</td>\n",
       "      <td>AXISBANK</td>\n",
       "      <td>1</td>\n",
       "      <td>0</td>\n",
       "    </tr>\n",
       "    <tr>\n",
       "      <th>3802</th>\n",
       "      <td>2019-02-18</td>\n",
       "      <td>ICICIBANK</td>\n",
       "      <td>0</td>\n",
       "      <td>0</td>\n",
       "    </tr>\n",
       "    <tr>\n",
       "      <th>3757</th>\n",
       "      <td>2019-01-28</td>\n",
       "      <td>HDFCBANK</td>\n",
       "      <td>0</td>\n",
       "      <td>0</td>\n",
       "    </tr>\n",
       "    <tr>\n",
       "      <th>3706</th>\n",
       "      <td>2019-01-03</td>\n",
       "      <td>ICICIBANK</td>\n",
       "      <td>0</td>\n",
       "      <td>1</td>\n",
       "    </tr>\n",
       "  </tbody>\n",
       "</table>\n",
       "</div>"
      ],
      "text/plain": [
       "            Date     Symbol  close_price_change  indicators_prediction\n",
       "3872  2019-03-25   HDFCBANK                   1                      1\n",
       "3725  2019-01-11   AXISBANK                   1                      1\n",
       "3733  2019-01-16   HDFCBANK                   0                      0\n",
       "3851  2019-03-13   HDFCBANK                   1                      1\n",
       "3861  2019-03-19   AXISBANK                   1                      1\n",
       "3771  2019-02-04  ICICIBANK                   0                      0\n",
       "3903  2019-04-09   AXISBANK                   1                      0\n",
       "3802  2019-02-18  ICICIBANK                   0                      0\n",
       "3757  2019-01-28   HDFCBANK                   0                      0\n",
       "3706  2019-01-03  ICICIBANK                   0                      1"
      ]
     },
     "execution_count": 47,
     "metadata": {},
     "output_type": "execute_result"
    }
   ],
   "source": [
    "test_export.head(n=10)"
   ]
  },
  {
   "cell_type": "code",
   "execution_count": 48,
   "metadata": {},
   "outputs": [],
   "source": [
    "test_export.to_csv(\"FINAL_DATA/predicted_indicators.csv\", header=True, index=False, sep=\"~\")"
   ]
  },
  {
   "cell_type": "markdown",
   "metadata": {},
   "source": [
    "### Confusion Matrix"
   ]
  },
  {
   "cell_type": "code",
   "execution_count": 37,
   "metadata": {},
   "outputs": [],
   "source": [
    "import matplotlib.pyplot as plt\n",
    "from sklearn.metrics import confusion_matrix"
   ]
  },
  {
   "cell_type": "code",
   "execution_count": null,
   "metadata": {},
   "outputs": [],
   "source": []
  },
  {
   "cell_type": "code",
   "execution_count": 42,
   "metadata": {},
   "outputs": [],
   "source": [
    "tn, fp, fn, tp = confusion_matrix(Y_test, list(rf_clf.predict(X_test))).ravel()"
   ]
  },
  {
   "cell_type": "code",
   "execution_count": 43,
   "metadata": {},
   "outputs": [
    {
     "name": "stdout",
     "output_type": "stream",
     "text": [
      "83 38 35 87\n"
     ]
    }
   ],
   "source": [
    "print(tn, fp, fn, tp)"
   ]
  }
 ],
 "metadata": {
  "kernelspec": {
   "display_name": "env",
   "language": "python",
   "name": "env"
  },
  "language_info": {
   "codemirror_mode": {
    "name": "ipython",
    "version": 3
   },
   "file_extension": ".py",
   "mimetype": "text/x-python",
   "name": "python",
   "nbconvert_exporter": "python",
   "pygments_lexer": "ipython3",
   "version": "3.6.7"
  }
 },
 "nbformat": 4,
 "nbformat_minor": 2
}
