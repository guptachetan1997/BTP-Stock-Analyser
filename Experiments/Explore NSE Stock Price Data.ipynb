{
 "cells": [
  {
   "cell_type": "code",
   "execution_count": 3,
   "metadata": {},
   "outputs": [],
   "source": [
    "import pandas as pd"
   ]
  },
  {
   "cell_type": "code",
   "execution_count": 29,
   "metadata": {},
   "outputs": [],
   "source": [
    "import glob, os\n",
    "import datetime"
   ]
  },
  {
   "cell_type": "code",
   "execution_count": 6,
   "metadata": {},
   "outputs": [],
   "source": [
    "tickers = [\"HDFCBANK\", \"ICICIBANK\", \"AXISBANK\"]"
   ]
  },
  {
   "cell_type": "code",
   "execution_count": 7,
   "metadata": {},
   "outputs": [],
   "source": [
    "source_data_path = \"Data/StockPrice/{ticker}/\""
   ]
  },
  {
   "cell_type": "markdown",
   "metadata": {},
   "source": [
    "## Combining individual stock part files"
   ]
  },
  {
   "cell_type": "code",
   "execution_count": 8,
   "metadata": {},
   "outputs": [],
   "source": [
    "destination_data_path = \"FINAL_DATA\""
   ]
  },
  {
   "cell_type": "code",
   "execution_count": 37,
   "metadata": {},
   "outputs": [],
   "source": [
    "def combine_for_ticker(ticker):\n",
    "    all_files = glob.glob(os.path.join(source_data_path.format(ticker=ticker), \"*.csv\"))\n",
    "    all_dfs = {}\n",
    "    for file in all_files:\n",
    "        current_df = pd.read_csv(file)\n",
    "        current_df[\"date\"] = [datetime.datetime.strptime(x, \"%d-%b-%Y\").date() for x in current_df[\"Date\"].values]\n",
    "        current_df = current_df.drop([\"Date\", \"Series\", \"Prev Close\", \"Last Price\", \"Average Price\", \"Turnover\", \"No. of Trades\", \"Deliverable Qty\",\"% Dly Qt to Traded Qty\"], axis=1)\n",
    "        current_df = current_df.sort_values(by=['date'])\n",
    "        close_price_changes = current_df[\"Close Price\"] - current_df[\"Close Price\"].shift()\n",
    "        current_df[\"close_price_change\"] = [1 if x > 0 else 0 for x in close_price_changes]\n",
    "        all_dfs[file] = current_df\n",
    "    total_df = pd.concat([all_dfs[x] for x in all_dfs], ignore_index=True)\n",
    "    total_df.to_csv(\"{}/price_data_{}.csv\".format(destination_data_path, ticker), header=True, index=False)"
   ]
  },
  {
   "cell_type": "code",
   "execution_count": 38,
   "metadata": {},
   "outputs": [],
   "source": [
    "for ticker in tickers:\n",
    "    combine_for_ticker(ticker)"
   ]
  },
  {
   "cell_type": "markdown",
   "metadata": {},
   "source": [
    "## Combing all price data"
   ]
  },
  {
   "cell_type": "code",
   "execution_count": 39,
   "metadata": {},
   "outputs": [],
   "source": [
    "files = [\"FINAL_DATA/price_data_HDFCBANK.csv\", \"FINAL_DATA/price_data_ICICIBANK.csv\", \"FINAL_DATA/price_data_AXISBANK.csv\"]"
   ]
  },
  {
   "cell_type": "code",
   "execution_count": 40,
   "metadata": {},
   "outputs": [],
   "source": [
    "all_dfs = {}\n",
    "for file in files:\n",
    "    current_df = pd.read_csv(file)\n",
    "    all_dfs[file] = current_df\n",
    "total_df = pd.concat([all_dfs[x] for x in all_dfs], ignore_index=True)"
   ]
  },
  {
   "cell_type": "code",
   "execution_count": 41,
   "metadata": {},
   "outputs": [],
   "source": [
    "total_df = total_df.sort_values(by=['date'])"
   ]
  },
  {
   "cell_type": "code",
   "execution_count": 44,
   "metadata": {},
   "outputs": [
    {
     "data": {
      "text/html": [
       "<div>\n",
       "<style scoped>\n",
       "    .dataframe tbody tr th:only-of-type {\n",
       "        vertical-align: middle;\n",
       "    }\n",
       "\n",
       "    .dataframe tbody tr th {\n",
       "        vertical-align: top;\n",
       "    }\n",
       "\n",
       "    .dataframe thead th {\n",
       "        text-align: right;\n",
       "    }\n",
       "</style>\n",
       "<table border=\"1\" class=\"dataframe\">\n",
       "  <thead>\n",
       "    <tr style=\"text-align: right;\">\n",
       "      <th></th>\n",
       "      <th>Symbol</th>\n",
       "      <th>Open Price</th>\n",
       "      <th>High Price</th>\n",
       "      <th>Low Price</th>\n",
       "      <th>Close Price</th>\n",
       "      <th>Total Traded Quantity</th>\n",
       "      <th>date</th>\n",
       "      <th>close_price_change</th>\n",
       "    </tr>\n",
       "  </thead>\n",
       "  <tbody>\n",
       "    <tr>\n",
       "      <th>1563</th>\n",
       "      <td>ICICIBANK</td>\n",
       "      <td>1100.90</td>\n",
       "      <td>1106.05</td>\n",
       "      <td>1092.00</td>\n",
       "      <td>1097.70</td>\n",
       "      <td>564158</td>\n",
       "      <td>2014-01-01</td>\n",
       "      <td>0</td>\n",
       "    </tr>\n",
       "    <tr>\n",
       "      <th>3125</th>\n",
       "      <td>AXISBANK</td>\n",
       "      <td>1301.50</td>\n",
       "      <td>1305.00</td>\n",
       "      <td>1288.20</td>\n",
       "      <td>1292.20</td>\n",
       "      <td>569885</td>\n",
       "      <td>2014-01-01</td>\n",
       "      <td>0</td>\n",
       "    </tr>\n",
       "    <tr>\n",
       "      <th>574</th>\n",
       "      <td>HDFCBANK</td>\n",
       "      <td>668.00</td>\n",
       "      <td>669.80</td>\n",
       "      <td>663.00</td>\n",
       "      <td>665.15</td>\n",
       "      <td>1123109</td>\n",
       "      <td>2014-01-01</td>\n",
       "      <td>0</td>\n",
       "    </tr>\n",
       "    <tr>\n",
       "      <th>3126</th>\n",
       "      <td>AXISBANK</td>\n",
       "      <td>1292.00</td>\n",
       "      <td>1325.00</td>\n",
       "      <td>1263.35</td>\n",
       "      <td>1272.30</td>\n",
       "      <td>2594412</td>\n",
       "      <td>2014-01-02</td>\n",
       "      <td>0</td>\n",
       "    </tr>\n",
       "    <tr>\n",
       "      <th>1564</th>\n",
       "      <td>ICICIBANK</td>\n",
       "      <td>1096.15</td>\n",
       "      <td>1118.00</td>\n",
       "      <td>1070.10</td>\n",
       "      <td>1075.60</td>\n",
       "      <td>2058457</td>\n",
       "      <td>2014-01-02</td>\n",
       "      <td>0</td>\n",
       "    </tr>\n",
       "    <tr>\n",
       "      <th>575</th>\n",
       "      <td>HDFCBANK</td>\n",
       "      <td>665.00</td>\n",
       "      <td>674.75</td>\n",
       "      <td>653.55</td>\n",
       "      <td>657.00</td>\n",
       "      <td>1807248</td>\n",
       "      <td>2014-01-02</td>\n",
       "      <td>0</td>\n",
       "    </tr>\n",
       "    <tr>\n",
       "      <th>1565</th>\n",
       "      <td>ICICIBANK</td>\n",
       "      <td>1068.00</td>\n",
       "      <td>1075.00</td>\n",
       "      <td>1045.00</td>\n",
       "      <td>1066.80</td>\n",
       "      <td>2830455</td>\n",
       "      <td>2014-01-03</td>\n",
       "      <td>0</td>\n",
       "    </tr>\n",
       "    <tr>\n",
       "      <th>3127</th>\n",
       "      <td>AXISBANK</td>\n",
       "      <td>1258.00</td>\n",
       "      <td>1269.50</td>\n",
       "      <td>1245.60</td>\n",
       "      <td>1260.90</td>\n",
       "      <td>2403748</td>\n",
       "      <td>2014-01-03</td>\n",
       "      <td>0</td>\n",
       "    </tr>\n",
       "    <tr>\n",
       "      <th>576</th>\n",
       "      <td>HDFCBANK</td>\n",
       "      <td>652.00</td>\n",
       "      <td>666.00</td>\n",
       "      <td>650.00</td>\n",
       "      <td>663.10</td>\n",
       "      <td>1628296</td>\n",
       "      <td>2014-01-03</td>\n",
       "      <td>1</td>\n",
       "    </tr>\n",
       "    <tr>\n",
       "      <th>3128</th>\n",
       "      <td>AXISBANK</td>\n",
       "      <td>1257.55</td>\n",
       "      <td>1262.00</td>\n",
       "      <td>1241.60</td>\n",
       "      <td>1256.30</td>\n",
       "      <td>1836289</td>\n",
       "      <td>2014-01-06</td>\n",
       "      <td>0</td>\n",
       "    </tr>\n",
       "  </tbody>\n",
       "</table>\n",
       "</div>"
      ],
      "text/plain": [
       "         Symbol  Open Price  High Price  Low Price  Close Price  \\\n",
       "1563  ICICIBANK     1100.90     1106.05    1092.00      1097.70   \n",
       "3125   AXISBANK     1301.50     1305.00    1288.20      1292.20   \n",
       "574    HDFCBANK      668.00      669.80     663.00       665.15   \n",
       "3126   AXISBANK     1292.00     1325.00    1263.35      1272.30   \n",
       "1564  ICICIBANK     1096.15     1118.00    1070.10      1075.60   \n",
       "575    HDFCBANK      665.00      674.75     653.55       657.00   \n",
       "1565  ICICIBANK     1068.00     1075.00    1045.00      1066.80   \n",
       "3127   AXISBANK     1258.00     1269.50    1245.60      1260.90   \n",
       "576    HDFCBANK      652.00      666.00     650.00       663.10   \n",
       "3128   AXISBANK     1257.55     1262.00    1241.60      1256.30   \n",
       "\n",
       "      Total Traded Quantity        date  close_price_change  \n",
       "1563                 564158  2014-01-01                   0  \n",
       "3125                 569885  2014-01-01                   0  \n",
       "574                 1123109  2014-01-01                   0  \n",
       "3126                2594412  2014-01-02                   0  \n",
       "1564                2058457  2014-01-02                   0  \n",
       "575                 1807248  2014-01-02                   0  \n",
       "1565                2830455  2014-01-03                   0  \n",
       "3127                2403748  2014-01-03                   0  \n",
       "576                 1628296  2014-01-03                   1  \n",
       "3128                1836289  2014-01-06                   0  "
      ]
     },
     "execution_count": 44,
     "metadata": {},
     "output_type": "execute_result"
    }
   ],
   "source": [
    "total_df.head(n=10)"
   ]
  },
  {
   "cell_type": "code",
   "execution_count": 42,
   "metadata": {},
   "outputs": [],
   "source": [
    "total_df.to_csv(\"FINAL_DATA/price_data.csv\", header=True, index=False)"
   ]
  }
 ],
 "metadata": {
  "kernelspec": {
   "display_name": "Python 3",
   "language": "python",
   "name": "python3"
  },
  "language_info": {
   "codemirror_mode": {
    "name": "ipython",
    "version": 3
   },
   "file_extension": ".py",
   "mimetype": "text/x-python",
   "name": "python",
   "nbconvert_exporter": "python",
   "pygments_lexer": "ipython3",
   "version": "3.6.7"
  }
 },
 "nbformat": 4,
 "nbformat_minor": 2
}
